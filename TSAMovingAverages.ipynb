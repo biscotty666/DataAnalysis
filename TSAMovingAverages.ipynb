{
 "cells": [
  {
   "cell_type": "markdown",
   "id": "585b3d51-4f0d-4e25-ba33-0f6458c06999",
   "metadata": {},
   "source": [
    "# Moving Averages\n",
    "\n",
    "[Video](https://www.youtube.com/watch?v=r71hWIUscV4&list=PL3N9eeOlCrP5cK0QRQxeJd6GrQvhAtpBK&index=4)\n",
    "\n",
    "[Github repo](https://github.com/srivatsan88/End-to-End-Time-Series)"
   ]
  },
  {
   "cell_type": "code",
   "execution_count": 1,
   "id": "ef43928e-9949-4af8-a248-12d7a065ad33",
   "metadata": {},
   "outputs": [],
   "source": [
    "from __future__ import absolute_import, division, print_function, unicode_literals\n",
    "\n",
    "import seaborn as sns\n",
    "\n",
    "import matplotlib as mpl\n",
    "import matplotlib.pyplot as plt\n",
    "import numpy as np\n",
    "import os\n",
    "from datetime import datetime\n",
    "\n",
    "import pandas as pd\n",
    "\n",
    "try:\n",
    "  from download import download\n",
    "except:\n",
    "  !pip install download\n",
    "  from download import download\n",
    "  \n",
    "mpl.rcParams['figure.figsize'] = (8,6)\n",
    "mpl.rcParams['axes.grid'] = False"
   ]
  },
  {
   "cell_type": "code",
   "execution_count": 2,
   "id": "0165ab89-153f-4ce0-b04e-582716f86b10",
   "metadata": {},
   "outputs": [],
   "source": [
    "def parse(x):\n",
    "  return datetime.strptime(x, '%m/%d/%Y')"
   ]
  },
  {
   "cell_type": "code",
   "execution_count": 3,
   "id": "2ceb914e-06d1-421f-8eef-74bdce1e2961",
   "metadata": {},
   "outputs": [
    {
     "data": {
      "text/html": [
       "<div>\n",
       "<style scoped>\n",
       "    .dataframe tbody tr th:only-of-type {\n",
       "        vertical-align: middle;\n",
       "    }\n",
       "\n",
       "    .dataframe tbody tr th {\n",
       "        vertical-align: top;\n",
       "    }\n",
       "\n",
       "    .dataframe thead th {\n",
       "        text-align: right;\n",
       "    }\n",
       "</style>\n",
       "<table border=\"1\" class=\"dataframe\">\n",
       "  <thead>\n",
       "    <tr style=\"text-align: right;\">\n",
       "      <th></th>\n",
       "      <th>Bill_Date</th>\n",
       "      <th>On_peak</th>\n",
       "      <th>Off_peak</th>\n",
       "      <th>Usage_charge</th>\n",
       "      <th>Billed_amount</th>\n",
       "      <th>Billing_days</th>\n",
       "    </tr>\n",
       "  </thead>\n",
       "  <tbody>\n",
       "    <tr>\n",
       "      <th>0</th>\n",
       "      <td>2016-01-01</td>\n",
       "      <td>365</td>\n",
       "      <td>1423.5</td>\n",
       "      <td>219.0</td>\n",
       "      <td>247.73</td>\n",
       "      <td>31</td>\n",
       "    </tr>\n",
       "    <tr>\n",
       "      <th>1</th>\n",
       "      <td>2016-02-01</td>\n",
       "      <td>292</td>\n",
       "      <td>1138.8</td>\n",
       "      <td>175.2</td>\n",
       "      <td>234.11</td>\n",
       "      <td>31</td>\n",
       "    </tr>\n",
       "    <tr>\n",
       "      <th>2</th>\n",
       "      <td>2016-03-01</td>\n",
       "      <td>130</td>\n",
       "      <td>507.0</td>\n",
       "      <td>78.0</td>\n",
       "      <td>123.85</td>\n",
       "      <td>29</td>\n",
       "    </tr>\n",
       "    <tr>\n",
       "      <th>3</th>\n",
       "      <td>2016-04-01</td>\n",
       "      <td>117</td>\n",
       "      <td>456.3</td>\n",
       "      <td>70.2</td>\n",
       "      <td>111.22</td>\n",
       "      <td>29</td>\n",
       "    </tr>\n",
       "    <tr>\n",
       "      <th>4</th>\n",
       "      <td>2016-05-01</td>\n",
       "      <td>136</td>\n",
       "      <td>530.4</td>\n",
       "      <td>81.6</td>\n",
       "      <td>118.37</td>\n",
       "      <td>29</td>\n",
       "    </tr>\n",
       "  </tbody>\n",
       "</table>\n",
       "</div>"
      ],
      "text/plain": [
       "   Bill_Date  On_peak  Off_peak  Usage_charge  Billed_amount  Billing_days\n",
       "0 2016-01-01      365    1423.5         219.0         247.73            31\n",
       "1 2016-02-01      292    1138.8         175.2         234.11            31\n",
       "2 2016-03-01      130     507.0          78.0         123.85            29\n",
       "3 2016-04-01      117     456.3          70.2         111.22            29\n",
       "4 2016-05-01      136     530.4          81.6         118.37            29"
      ]
     },
     "execution_count": 3,
     "metadata": {},
     "output_type": "execute_result"
    }
   ],
   "source": [
    "df = pd.read_csv('https://raw.githubusercontent.com/srivatsan88/YouTubeLI/master/dataset/electricity_consumption.csv', parse_dates = ['Bill_Date'],date_parser=parse)\n",
    "df.head()"
   ]
  },
  {
   "cell_type": "code",
   "execution_count": null,
   "id": "16479a8f-10da-450a-afba-87f5bab9509d",
   "metadata": {},
   "outputs": [],
   "source": []
  }
 ],
 "metadata": {
  "kernelspec": {
   "display_name": "Python 3 (ipykernel)",
   "language": "python",
   "name": "python3"
  },
  "language_info": {
   "codemirror_mode": {
    "name": "ipython",
    "version": 3
   },
   "file_extension": ".py",
   "mimetype": "text/x-python",
   "name": "python",
   "nbconvert_exporter": "python",
   "pygments_lexer": "ipython3",
   "version": "3.10.8"
  }
 },
 "nbformat": 4,
 "nbformat_minor": 5
}
