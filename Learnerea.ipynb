{
 "cells": [
  {
   "cell_type": "markdown",
   "id": "9b985217-7caf-4d90-b9f3-bb0486accbca",
   "metadata": {},
   "source": [
    "[Time Series Analysis and Model Development](https://www.youtube.com/watch?v=Vycv3Y-B0V8)"
   ]
  },
  {
   "cell_type": "code",
   "execution_count": null,
   "id": "ec424a11-a9e3-4b93-b878-6cb871558b90",
   "metadata": {},
   "outputs": [],
   "source": []
  }
 ],
 "metadata": {
  "kernelspec": {
   "display_name": "Python 3 (ipykernel)",
   "language": "python",
   "name": "python3"
  },
  "language_info": {
   "codemirror_mode": {
    "name": "ipython",
    "version": 3
   },
   "file_extension": ".py",
   "mimetype": "text/x-python",
   "name": "python",
   "nbconvert_exporter": "python",
   "pygments_lexer": "ipython3",
   "version": "3.10.8"
  }
 },
 "nbformat": 4,
 "nbformat_minor": 5
}
